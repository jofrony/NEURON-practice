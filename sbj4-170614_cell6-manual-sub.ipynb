{
 "cells": [
  {
   "cell_type": "code",
   "execution_count": 5,
   "metadata": {},
   "outputs": [],
   "source": [
    "from neuron_test import modelSetUp\n",
    "from neuron_test import Neuron_model_extended\n",
    "import os\n",
    "import bluepyopt.ephys as ephys\n",
    "import matplotlib.pyplot as plt"
   ]
  },
  {
   "cell_type": "code",
   "execution_count": 2,
   "metadata": {},
   "outputs": [
    {
     "name": "stdout",
     "output_type": "stream",
     "text": [
      "/home/jofrony/Documents/Repositories/SingleNeuronExperiments/optimisation/single-cell/sbj4-170614_cell6/manual\n"
     ]
    }
   ],
   "source": [
    "%cd manual/"
   ]
  },
  {
   "cell_type": "code",
   "execution_count": 3,
   "metadata": {},
   "outputs": [],
   "source": [
    "opt_dir = \"../sbj4-170614_cell6/\""
   ]
  },
  {
   "cell_type": "code",
   "execution_count": 4,
   "metadata": {},
   "outputs": [],
   "source": [
    "name = \"sbj4170614_cell6\"\n",
    "modelFile = os.path.abspath(\"modelParameter-sub.txt\")\n",
    "morphologyFile = os.path.abspath(opt_dir + \"morphology/17JUL301751_170614_no6_MD_cell_1_x63-cor-rep-res5.swc\")\n",
    "parameterFile = os.path.abspath(\"config/parameters.json\")\n",
    "mechanismsFile = os.path.abspath(\"config/mechanisms.json\")"
   ]
  },
  {
   "cell_type": "code",
   "execution_count": null,
   "metadata": {},
   "outputs": [],
   "source": [
    "%cp -r ../../sbj4-170614_cell6/sbj4-170614_cell6/mechanisms/ mechanisms\n",
    "!rm -rf x86_64\n",
    "!nrnivmodl mechanisms"
   ]
  },
  {
   "cell_type": "code",
   "execution_count": 11,
   "metadata": {},
   "outputs": [
    {
     "data": {
      "text/plain": [
       "Text(0.5, 1.0, 'TestCell Simulation')"
      ]
     },
     "execution_count": 11,
     "metadata": {},
     "output_type": "execute_result"
    },
    {
     "data": {
      "image/png": "[encoded data removed]",
      "text/plain": [
       "<Figure size 432x288 with 1 Axes>"
      ]
     },
     "metadata": {
      "needs_background": "light"
     },
     "output_type": "display_data"
    }
   ],
   "source": [
    "modelSetUp.packageModel(modelFile) # Packaging the manual tuning file modelParameter.txt into the two files for NeuroModel: parameters.json and mechanisms.json\n",
    "\n",
    "modelCell=Neuron_model_extended.NeuronModel(cell_name=name,param_file=parameterFile,morph_file=morphologyFile,mech_file=mechanismsFile)\n",
    "\n",
    "simulator=ephys.simulators.NrnSimulator(cvode_active=False) # In here is neuron.h., simulator.neuron.h = neuron.h. in common NEURON+python syntax\n",
    "\n",
    "modelCell.instantiate(sim=simulator)  \n",
    "\n",
    "vSave = simulator.neuron.h.Vector()\n",
    "spikeTime = simulator.neuron.h.Vector()\n",
    "\n",
    "\"\"\"\n",
    "Record somatic voltage\n",
    "\"\"\"\n",
    "vSave.record(modelCell.icell.soma[0](0.5)._ref_v)\n",
    "recordingSpikingActivity = simulator.neuron.h.NetCon(modelCell.icell.soma[0](0.5)._ref_v,None, sec = modelCell.icell.soma[0])\n",
    "recordingSpikingActivity.threshold = 0\n",
    "recordingSpikingActivity.record(spikeTime)\n",
    "\n",
    "tSave = simulator.neuron.h.Vector()\n",
    "tSave.record(simulator.neuron.h._ref_t)\n",
    "\n",
    "\n",
    "\"\"\"\n",
    "IClamp\n",
    "\n",
    "\"\"\"\n",
    "IClampHolding = simulator.neuron.h.IClamp(modelCell.icell.soma[0](0.5))\n",
    "IClampHolding.delay = 0\n",
    "IClampHolding.dur = 2000\n",
    "IClampHolding.amp = -0.4257 # nA, but experiments usually use pA\n",
    "IClampStimulation = simulator.neuron.h.IClamp(modelCell.icell.soma[0](0.5))\n",
    "IClampStimulation.delay = 100\n",
    "IClampStimulation.dur = 1000\n",
    "IClampStimulation.amp = 0.4 # nA, but experiments usually use pA\n",
    "\n",
    "simulator.neuron.h.tstop=15\n",
    "simulator.neuron.h.run()\n",
    "\n",
    "plt.figure(0)\n",
    "plt.plot(tSave,vSave,label=\"membrane potential\",c='black')\n",
    "plt.xlabel(\"Time (ms)\")\n",
    "plt.ylabel(\"Membrane potential (mV)\")\n",
    "plt.title(\"TestCell Simulation\")"
   ]
  },
  {
   "cell_type": "code",
   "execution_count": null,
   "metadata": {},
   "outputs": [],
   "source": []
  }
 ],
 "metadata": {
  "kernelspec": {
   "display_name": "Python 3",
   "language": "python",
   "name": "python3"
  },
  "language_info": {
   "codemirror_mode": {
    "name": "ipython",
    "version": 3
   },
   "file_extension": ".py",
   "mimetype": "text/x-python",
   "name": "python",
   "nbconvert_exporter": "python",
   "pygments_lexer": "ipython3",
   "version": "3.6.10"
  }
 },
 "nbformat": 4,
 "nbformat_minor": 4
}
