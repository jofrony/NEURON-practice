{
 "cells": [
  {
   "cell_type": "markdown",
   "metadata": {},
   "source": [
    "\n",
    "#######################################################################\n",
    "\n",
    "Morphology tool for visualising \n",
    "https://github.com/BlueBrain/NeuroM (Some code on visualisation is included further down)\n",
    "\n",
    "\n",
    "#######################################################################\n",
    "\n",
    "Examples of features which you can extract from NeuroM - You can find more on:\n",
    "\n",
    "https://github.com/BlueBrain/NeuroM/blob/fd64d2a45644119fa01e61fe8f6a701113deb78c/neurom/features/__init__.py\n",
    "\n",
    "You can look into the swc-file in the morphology folder - the structure of the file is explained at, \n",
    "http://www.neuronland.org/NLMorphologyConverter/MorphologyFormats/SWC/Spec.html\n",
    "\n",
    "If you want to do other forms of analysis check out, https://github.com/BlueBrain/NeuroM/blob/master/tutorial/getting_started.ipynb\n",
    "\n"
   ]
  },
  {
   "cell_type": "code",
   "execution_count": 1,
   "metadata": {},
   "outputs": [],
   "source": [
    "import neurom as nm\n",
    "from neurom import viewer\n",
    "from neurom.view import plotly"
   ]
  },
  {
   "cell_type": "code",
   "execution_count": 2,
   "metadata": {},
   "outputs": [
    {
     "name": "stdout",
     "output_type": "stream",
     "text": [
      "soma area :  875.1391602005023\n",
      "dend area :  5004.4148919108875\n",
      "dendritic length :  2216.5498946467637\n"
     ]
    }
   ],
   "source": [
    "morphologyFile = \"morphology/MTC180800A-IDB-cor-rep.swc\"\n",
    "\n",
    "nrn = nm.load_neuron(morphologyFile)\n",
    "\n",
    "total_area_per_neurite = nm.get('total_area_per_neurite', nrn, neurite_type=nm.BASAL_DENDRITE)\n",
    "volume_basal_dendrite = nm.get('neurite_volumes', nrn, neurite_type=nm.BASAL_DENDRITE)\n",
    "soma_surface_areas = nm.get('soma_surface_areas', nrn)\n",
    "dendrite_length = nm.get('neurite_lengths', nrn, neurite_type=nm.BASAL_DENDRITE)\n",
    "\n",
    "dend_area_total = sum(total_area_per_neurite)\n",
    "dend_length_total = sum(dendrite_length)\n",
    "soma_area = soma_surface_areas[0]\n",
    "\n",
    "print(\"soma area : \",soma_area)\n",
    "print(\"dend area : \",dend_area_total)\n",
    "print(\"dendritic length : \",dend_length_total)\n",
    "\n",
    "fig, ax = plotly.draw(nrn, plane='xy')\n",
    "fig, ax = plotly.draw(nrn)\n"
   ]
  },
  {
   "cell_type": "code",
   "execution_count": null,
   "metadata": {},
   "outputs": [],
   "source": []
  }
 ],
 "metadata": {
  "kernelspec": {
   "display_name": "Python 3",
   "language": "python",
   "name": "python3"
  },
  "language_info": {
   "codemirror_mode": {
    "name": "ipython",
    "version": 3
   },
   "file_extension": ".py",
   "mimetype": "text/x-python",
   "name": "python",
   "nbconvert_exporter": "python",
   "pygments_lexer": "ipython3",
   "version": "3.6.10"
  }
 },
 "nbformat": 4,
 "nbformat_minor": 4
}
